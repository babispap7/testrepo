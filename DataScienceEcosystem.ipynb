{
 "cells": [
  {
   "cell_type": "markdown",
   "id": "b6feaefa-5d4b-4c98-aa04-22c6ac8598f2",
   "metadata": {},
   "source": [
    "# Data Science Tools and Ecosystem"
   ]
  },
  {
   "cell_type": "code",
   "execution_count": 73,
   "id": "d55ce9fe-a46d-46a6-bde0-c208465d789d",
   "metadata": {},
   "outputs": [
    {
     "data": {
      "text/plain": [
       "'In this notebook, Data Science Tools and Ecosystem are summarized.'"
      ]
     },
     "execution_count": 73,
     "metadata": {},
     "output_type": "execute_result"
    }
   ],
   "source": [
    "\"In this notebook, Data Science Tools and Ecosystem are summarized.\""
   ]
  },
  {
   "cell_type": "markdown",
   "id": "001aed67-4641-46e6-b09f-616da4cc1bec",
   "metadata": {},
   "source": [
    "**Objectives:**\n",
    "\n",
    "- Create a Jupyter Notebook\n",
    "- Insert code and Markdown cells\n",
    "- List popular languages for Data Science\n",
    "- Commonly used libraries used by Data Scientists"
   ]
  },
  {
   "cell_type": "code",
   "execution_count": 18,
   "id": "b086b9f5-0342-4d08-9458-a6d8d4a59d9d",
   "metadata": {},
   "outputs": [
    {
     "data": {
      "text/plain": [
       "'Some of the popular languages that Data Scientists use are:'"
      ]
     },
     "execution_count": 18,
     "metadata": {},
     "output_type": "execute_result"
    }
   ],
   "source": [
    "\"Some of the popular languages that Data Scientists use are:\""
   ]
  },
  {
   "cell_type": "markdown",
   "id": "e1209dbb-3e3d-48ae-aee8-f9a7c4e8127c",
   "metadata": {},
   "source": [
    "1. Python\n",
    "2. R\n",
    "3. SQL"
   ]
  },
  {
   "cell_type": "code",
   "execution_count": 23,
   "id": "12478251-19e8-4d42-9bc7-761b377064de",
   "metadata": {},
   "outputs": [
    {
     "data": {
      "text/plain": [
       "'Some of the commonly used libraries used by Data Scientists include:'"
      ]
     },
     "execution_count": 23,
     "metadata": {},
     "output_type": "execute_result"
    }
   ],
   "source": [
    "\"Some of the commonly used libraries used by Data Scientists include:\""
   ]
  },
  {
   "cell_type": "markdown",
   "id": "4d68f335-e197-4685-9c48-8f4f2db92945",
   "metadata": {},
   "source": [
    "1. NumPy\n",
    "2. Pandas\n",
    "3. Matplotlib"
   ]
  },
  {
   "cell_type": "markdown",
   "id": "90b640f2-6357-4647-ab14-24dcb82b6253",
   "metadata": {},
   "source": [
    "|Data Science Tools|\n",
    "|------------------|\n",
    "|Python|\n",
    "|R|\n",
    "|Jupyter|"
   ]
  },
  {
   "cell_type": "markdown",
   "id": "08d81415-f2dc-49a0-b332-1c98a766ad5a",
   "metadata": {},
   "source": [
    "### Below are a few examples of evaluating arithmetic expressions in Python"
   ]
  },
  {
   "cell_type": "code",
   "execution_count": 80,
   "id": "f2f255d7-e5b1-404a-bb73-0cc5bf4ec14d",
   "metadata": {},
   "outputs": [
    {
     "data": {
      "text/plain": [
       "'This a simple arithmetic expression to mutiply then add integers'"
      ]
     },
     "execution_count": 80,
     "metadata": {},
     "output_type": "execute_result"
    }
   ],
   "source": [
    "\"This a simple arithmetic expression to mutiply then add integers\""
   ]
  },
  {
   "cell_type": "code",
   "execution_count": 28,
   "id": "bce5d6ab-c3ca-4fde-812c-2cbba1952917",
   "metadata": {},
   "outputs": [
    {
     "data": {
      "text/plain": [
       "17"
      ]
     },
     "execution_count": 28,
     "metadata": {},
     "output_type": "execute_result"
    }
   ],
   "source": [
    "(3*4)+5"
   ]
  },
  {
   "cell_type": "code",
   "execution_count": 32,
   "id": "4d0e8956-96dc-41ed-b8ab-f52c8cd5d85e",
   "metadata": {},
   "outputs": [
    {
     "data": {
      "text/plain": [
       "'This will convert 200 minutes to hours by diving by 60'"
      ]
     },
     "execution_count": 32,
     "metadata": {},
     "output_type": "execute_result"
    }
   ],
   "source": [
    "\"This will convert 200 minutes to hours by diving by 60\""
   ]
  },
  {
   "cell_type": "code",
   "execution_count": 34,
   "id": "14e2e8ff-dc4d-442b-a939-66a85793d635",
   "metadata": {},
   "outputs": [
    {
     "name": "stdout",
     "output_type": "stream",
     "text": [
      "3.3333333333333335\n"
     ]
    }
   ],
   "source": [
    "minutes = 200\n",
    "hours = minutes/60\n",
    "print(hours)"
   ]
  },
  {
   "cell_type": "markdown",
   "id": "5bf08d94-56c4-490b-8ae5-8a806cfb9880",
   "metadata": {},
   "source": [
    "## Author"
   ]
  },
  {
   "cell_type": "code",
   "execution_count": 64,
   "id": "6ce87e51-9f65-45b8-9a02-c0101ddfe41d",
   "metadata": {},
   "outputs": [
    {
     "data": {
      "text/plain": [
       "'Charalampos Papamichalakis'"
      ]
     },
     "execution_count": 64,
     "metadata": {},
     "output_type": "execute_result"
    }
   ],
   "source": [
    "\"Charalampos Papamichalakis\""
   ]
  },
  {
   "cell_type": "code",
   "execution_count": null,
   "id": "116d08e5-01be-4a4a-833a-21428065cece",
   "metadata": {},
   "outputs": [],
   "source": []
  }
 ],
 "metadata": {
  "kernelspec": {
   "display_name": "Python 3 (ipykernel)",
   "language": "python",
   "name": "python3"
  },
  "language_info": {
   "codemirror_mode": {
    "name": "ipython",
    "version": 3
   },
   "file_extension": ".py",
   "mimetype": "text/x-python",
   "name": "python",
   "nbconvert_exporter": "python",
   "pygments_lexer": "ipython3",
   "version": "3.12.4"
  }
 },
 "nbformat": 4,
 "nbformat_minor": 5
}
